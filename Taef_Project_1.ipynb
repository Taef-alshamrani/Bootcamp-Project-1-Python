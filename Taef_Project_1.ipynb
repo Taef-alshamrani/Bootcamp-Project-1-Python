{
 "cells": [
  {
   "cell_type": "markdown",
   "id": "36c2ef49",
   "metadata": {},
   "source": [
    "# Project 1"
   ]
  },
  {
   "cell_type": "markdown",
   "id": "62cf1d07",
   "metadata": {},
   "source": [
    "## Setting my budget, the revenue, and loss for each Company"
   ]
  },
  {
   "cell_type": "code",
   "execution_count": 1,
   "id": "b197ea99",
   "metadata": {},
   "outputs": [],
   "source": [
    "Budget = 500000\n",
    "\n",
    "Companies = {\n",
    "    \"RevenueRatio\": {\n",
    "        \"Com1\": 7.5,\n",
    "        \"Com2\": 4.3,\n",
    "        \"Com3\": 4,\n",
    "        \"Com4\": 2.22,\n",
    "        \"Com5\": 9.1\n",
    "    },\n",
    "    \"LossRatio\": {\n",
    "        \"Com1\": 2.5,\n",
    "        \"Com2\": 5.7,\n",
    "        \"Com3\": 6,\n",
    "        \"Com4\": 7.78,\n",
    "        \"Com5\": 0.9 \n",
    "    }\n",
    "}"
   ]
  },
  {
   "cell_type": "markdown",
   "id": "f0aed5f0",
   "metadata": {},
   "source": [
    "## Calculating the revenue and loss for each Company"
   ]
  },
  {
   "cell_type": "code",
   "execution_count": 2,
   "id": "bba8c986",
   "metadata": {},
   "outputs": [],
   "source": [
    "def Calculate_revenue_and_loss(Companies, Budget):\n",
    "    \n",
    "    #Retrieves the revenue and loss ratios from the companies dictionary\n",
    "    revenue_ratio = Companies['RevenueRatio'] \n",
    "    loss_ratio = Companies['LossRatio']\n",
    "    \n",
    "    #Empty dictionaries\n",
    "    company_revenues = {}\n",
    "    company_losses = {}\n",
    "    \n",
    "    #Loop to calculate the revenue and loss in Companies dictionary \n",
    "    for company in revenue_ratio:\n",
    "        revenue = (Budget * revenue_ratio[company]) / 100\n",
    "        loss = (revenue * loss_ratio[company]) / 100\n",
    "        \n",
    "        #The calculated revenue and loss values are stored in these variables \n",
    "        company_revenues[company] = revenue\n",
    "        company_losses[company] = loss\n",
    "    \n",
    "    return company_revenues, company_losses"
   ]
  },
  {
   "cell_type": "markdown",
   "id": "38b096c6",
   "metadata": {},
   "source": [
    "## Calling my function with my budget and Companies dictionary"
   ]
  },
  {
   "cell_type": "code",
   "execution_count": 3,
   "id": "20ebc15b",
   "metadata": {},
   "outputs": [],
   "source": [
    "revenues, losses = Calculate_revenue_and_loss(Companies, Budget)"
   ]
  },
  {
   "cell_type": "markdown",
   "id": "41e9cd28",
   "metadata": {},
   "source": [
    "##  Retrieving revenue results"
   ]
  },
  {
   "cell_type": "code",
   "execution_count": 4,
   "id": "38a6c1fc",
   "metadata": {},
   "outputs": [
    {
     "name": "stdout",
     "output_type": "stream",
     "text": [
      "Company Revenues:\n",
      "Com1 : 37500.0\n",
      "Com2 : 21500.0\n",
      "Com3 : 20000.0\n",
      "Com4 : 11100.0\n",
      "Com5 : 45500.0\n"
     ]
    }
   ],
   "source": [
    "print(\"Company Revenues:\")\n",
    "for company, revenue in revenues.items():\n",
    "    print(company, \":\", revenue)"
   ]
  },
  {
   "cell_type": "markdown",
   "id": "8972c71e",
   "metadata": {},
   "source": [
    "## Retrieving potential losses results"
   ]
  },
  {
   "cell_type": "code",
   "execution_count": 5,
   "id": "19486cfc",
   "metadata": {},
   "outputs": [
    {
     "name": "stdout",
     "output_type": "stream",
     "text": [
      "Company Losses:\n",
      "Com1 : 937.5\n",
      "Com2 : 1225.5\n",
      "Com3 : 1200.0\n",
      "Com4 : 863.58\n",
      "Com5 : 409.5\n"
     ]
    }
   ],
   "source": [
    "print(\"Company Losses:\")\n",
    "for company, loss in losses.items():\n",
    "    print(company, \":\", loss)"
   ]
  },
  {
   "cell_type": "markdown",
   "id": "7e070b1a",
   "metadata": {},
   "source": [
    "## Extract the most revenue among companies"
   ]
  },
  {
   "cell_type": "code",
   "execution_count": 6,
   "id": "46fb1b3c",
   "metadata": {},
   "outputs": [
    {
     "name": "stdout",
     "output_type": "stream",
     "text": [
      "The company with the most revenue is Com5 with 45500.0 Riyals\n"
     ]
    }
   ],
   "source": [
    "largest_revenue = 0\n",
    "for company, revenue in revenues.items():\n",
    "    if revenue > largest_revenue:\n",
    "        largest_revenue = revenue\n",
    "print(\"The company with the most revenue is\", company, \"with\", largest_revenue, \"Riyals\")"
   ]
  },
  {
   "cell_type": "markdown",
   "id": "7b6d0fbc",
   "metadata": {},
   "source": [
    "## Extract the least loss among companies"
   ]
  },
  {
   "cell_type": "code",
   "execution_count": 7,
   "id": "2111a14f",
   "metadata": {},
   "outputs": [
    {
     "name": "stdout",
     "output_type": "stream",
     "text": [
      "The company with the least loss is Com5 with 409.5 Riyals\n"
     ]
    }
   ],
   "source": [
    "smallest_loss = 0\n",
    "\n",
    "for company, loss in losses.items():\n",
    "    if smallest_loss == 0 or loss < smallest_loss:\n",
    "        smallest_loss = loss\n",
    "print(\"The company with the least loss is\", company, \"with\", smallest_loss, \"Riyals\")"
   ]
  },
  {
   "cell_type": "markdown",
   "id": "9d9d6868",
   "metadata": {},
   "source": [
    "## Finding how many years to recovery my budget"
   ]
  },
  {
   "cell_type": "code",
   "execution_count": 8,
   "id": "d9dd6224",
   "metadata": {},
   "outputs": [],
   "source": [
    "Years=lambda x:Budget/x"
   ]
  },
  {
   "cell_type": "code",
   "execution_count": 9,
   "id": "248e6492",
   "metadata": {},
   "outputs": [
    {
     "name": "stdout",
     "output_type": "stream",
     "text": [
      "It will take approximately 10 years to recover 500000\n"
     ]
    }
   ],
   "source": [
    "x=int(Years(largest_revenue))\n",
    "print(\"It will take approximately\",x ,\"years to recover\", Budget)"
   ]
  },
  {
   "cell_type": "code",
   "execution_count": null,
   "id": "790d85e5",
   "metadata": {},
   "outputs": [],
   "source": []
  }
 ],
 "metadata": {
  "kernelspec": {
   "display_name": "Python 3 (ipykernel)",
   "language": "python",
   "name": "python3"
  },
  "language_info": {
   "codemirror_mode": {
    "name": "ipython",
    "version": 3
   },
   "file_extension": ".py",
   "mimetype": "text/x-python",
   "name": "python",
   "nbconvert_exporter": "python",
   "pygments_lexer": "ipython3",
   "version": "3.11.3"
  }
 },
 "nbformat": 4,
 "nbformat_minor": 5
}
